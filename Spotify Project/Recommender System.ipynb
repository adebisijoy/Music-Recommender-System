{
 "cells": [
  {
   "cell_type": "markdown",
   "id": "2b1fd4ce",
   "metadata": {},
   "source": [
    "# Importing Libraries and Data Collection"
   ]
  },
  {
   "cell_type": "code",
   "execution_count": 1,
   "id": "67cbe901",
   "metadata": {},
   "outputs": [],
   "source": [
    "import pandas as pd\n",
    "import numpy as np\n",
    "import sklearn"
   ]
  },
  {
   "cell_type": "code",
   "execution_count": 2,
   "id": "9887e983",
   "metadata": {},
   "outputs": [
    {
     "data": {
      "text/html": [
       "<div>\n",
       "<style scoped>\n",
       "    .dataframe tbody tr th:only-of-type {\n",
       "        vertical-align: middle;\n",
       "    }\n",
       "\n",
       "    .dataframe tbody tr th {\n",
       "        vertical-align: top;\n",
       "    }\n",
       "\n",
       "    .dataframe thead th {\n",
       "        text-align: right;\n",
       "    }\n",
       "</style>\n",
       "<table border=\"1\" class=\"dataframe\">\n",
       "  <thead>\n",
       "    <tr style=\"text-align: right;\">\n",
       "      <th></th>\n",
       "      <th>artist</th>\n",
       "      <th>song</th>\n",
       "      <th>link</th>\n",
       "      <th>text</th>\n",
       "    </tr>\n",
       "  </thead>\n",
       "  <tbody>\n",
       "    <tr>\n",
       "      <th>0</th>\n",
       "      <td>ABBA</td>\n",
       "      <td>Ahe's My Kind Of Girl</td>\n",
       "      <td>/a/abba/ahes+my+kind+of+girl_20598417.html</td>\n",
       "      <td>Look at her face, it's a wonderful face  \\r\\nA...</td>\n",
       "    </tr>\n",
       "    <tr>\n",
       "      <th>1</th>\n",
       "      <td>ABBA</td>\n",
       "      <td>Andante, Andante</td>\n",
       "      <td>/a/abba/andante+andante_20002708.html</td>\n",
       "      <td>Take it easy with me, please  \\r\\nTouch me gen...</td>\n",
       "    </tr>\n",
       "    <tr>\n",
       "      <th>2</th>\n",
       "      <td>ABBA</td>\n",
       "      <td>As Good As New</td>\n",
       "      <td>/a/abba/as+good+as+new_20003033.html</td>\n",
       "      <td>I'll never know why I had to go  \\r\\nWhy I had...</td>\n",
       "    </tr>\n",
       "    <tr>\n",
       "      <th>3</th>\n",
       "      <td>ABBA</td>\n",
       "      <td>Bang</td>\n",
       "      <td>/a/abba/bang_20598415.html</td>\n",
       "      <td>Making somebody happy is a question of give an...</td>\n",
       "    </tr>\n",
       "    <tr>\n",
       "      <th>4</th>\n",
       "      <td>ABBA</td>\n",
       "      <td>Bang-A-Boomerang</td>\n",
       "      <td>/a/abba/bang+a+boomerang_20002668.html</td>\n",
       "      <td>Making somebody happy is a question of give an...</td>\n",
       "    </tr>\n",
       "  </tbody>\n",
       "</table>\n",
       "</div>"
      ],
      "text/plain": [
       "  artist                   song                                        link  \\\n",
       "0   ABBA  Ahe's My Kind Of Girl  /a/abba/ahes+my+kind+of+girl_20598417.html   \n",
       "1   ABBA       Andante, Andante       /a/abba/andante+andante_20002708.html   \n",
       "2   ABBA         As Good As New        /a/abba/as+good+as+new_20003033.html   \n",
       "3   ABBA                   Bang                  /a/abba/bang_20598415.html   \n",
       "4   ABBA       Bang-A-Boomerang      /a/abba/bang+a+boomerang_20002668.html   \n",
       "\n",
       "                                                text  \n",
       "0  Look at her face, it's a wonderful face  \\r\\nA...  \n",
       "1  Take it easy with me, please  \\r\\nTouch me gen...  \n",
       "2  I'll never know why I had to go  \\r\\nWhy I had...  \n",
       "3  Making somebody happy is a question of give an...  \n",
       "4  Making somebody happy is a question of give an...  "
      ]
     },
     "execution_count": 2,
     "metadata": {},
     "output_type": "execute_result"
    }
   ],
   "source": [
    "df = pd.read_csv(\"spotify_millsongdata_Recommendation.csv\")\n",
    "df.head()"
   ]
  },
  {
   "cell_type": "code",
   "execution_count": 3,
   "id": "9a09120e",
   "metadata": {},
   "outputs": [
    {
     "data": {
      "text/plain": [
       "(57650, 4)"
      ]
     },
     "execution_count": 3,
     "metadata": {},
     "output_type": "execute_result"
    }
   ],
   "source": [
    "df.shape"
   ]
  },
  {
   "cell_type": "code",
   "execution_count": 4,
   "id": "3026912e",
   "metadata": {},
   "outputs": [
    {
     "data": {
      "text/plain": [
       "artist    0\n",
       "song      0\n",
       "link      0\n",
       "text      0\n",
       "dtype: int64"
      ]
     },
     "execution_count": 4,
     "metadata": {},
     "output_type": "execute_result"
    }
   ],
   "source": [
    "# checking the null values\n",
    "df.isnull().sum()"
   ]
  },
  {
   "cell_type": "code",
   "execution_count": 5,
   "id": "bf85e501",
   "metadata": {},
   "outputs": [
    {
     "name": "stdout",
     "output_type": "stream",
     "text": [
      "<class 'pandas.core.frame.DataFrame'>\n",
      "RangeIndex: 57650 entries, 0 to 57649\n",
      "Data columns (total 4 columns):\n",
      " #   Column  Non-Null Count  Dtype \n",
      "---  ------  --------------  ----- \n",
      " 0   artist  57650 non-null  object\n",
      " 1   song    57650 non-null  object\n",
      " 2   link    57650 non-null  object\n",
      " 3   text    57650 non-null  object\n",
      "dtypes: object(4)\n",
      "memory usage: 1.8+ MB\n"
     ]
    }
   ],
   "source": [
    "df.info()"
   ]
  },
  {
   "cell_type": "code",
   "execution_count": 6,
   "id": "0f67ea5a",
   "metadata": {},
   "outputs": [],
   "source": [
    "# you try as much as possible to work with little number of columns, or shrink them together.\n",
    "# when dealing with a recommender system.\n",
    "# dropping the link column\n",
    "df.drop('link', axis = 1, inplace = True)"
   ]
  },
  {
   "cell_type": "code",
   "execution_count": 7,
   "id": "e91a73a5",
   "metadata": {},
   "outputs": [],
   "source": [
    "# Taking just the sample of the dataset for simplicity purpose\n",
    "df = df.sample(15000)"
   ]
  },
  {
   "cell_type": "code",
   "execution_count": 8,
   "id": "28eb4306",
   "metadata": {},
   "outputs": [
    {
     "data": {
      "text/html": [
       "<div>\n",
       "<style scoped>\n",
       "    .dataframe tbody tr th:only-of-type {\n",
       "        vertical-align: middle;\n",
       "    }\n",
       "\n",
       "    .dataframe tbody tr th {\n",
       "        vertical-align: top;\n",
       "    }\n",
       "\n",
       "    .dataframe thead th {\n",
       "        text-align: right;\n",
       "    }\n",
       "</style>\n",
       "<table border=\"1\" class=\"dataframe\">\n",
       "  <thead>\n",
       "    <tr style=\"text-align: right;\">\n",
       "      <th></th>\n",
       "      <th>artist</th>\n",
       "      <th>song</th>\n",
       "      <th>text</th>\n",
       "    </tr>\n",
       "  </thead>\n",
       "  <tbody>\n",
       "    <tr>\n",
       "      <th>13122</th>\n",
       "      <td>Miley Cyrus</td>\n",
       "      <td>Lilac Wine</td>\n",
       "      <td>I lost myself on a cool damp night  \\r\\nI gave...</td>\n",
       "    </tr>\n",
       "    <tr>\n",
       "      <th>35829</th>\n",
       "      <td>Hillsong</td>\n",
       "      <td>Cry Of The Broken</td>\n",
       "      <td>Lord I come  \\r\\nLord I thank you  \\r\\nFor you...</td>\n",
       "    </tr>\n",
       "    <tr>\n",
       "      <th>15562</th>\n",
       "      <td>Paul McCartney</td>\n",
       "      <td>Flaming Pie</td>\n",
       "      <td>Making love underneath the bed  \\r\\nShooting s...</td>\n",
       "    </tr>\n",
       "    <tr>\n",
       "      <th>16781</th>\n",
       "      <td>Radiohead</td>\n",
       "      <td>Cuttooth</td>\n",
       "      <td>I will lead a wallpaper life  \\r\\nOr run away ...</td>\n",
       "    </tr>\n",
       "    <tr>\n",
       "      <th>9329</th>\n",
       "      <td>Jimmy Buffett</td>\n",
       "      <td>High Cumberland Jubilee</td>\n",
       "      <td>Maybe leaving's better in the afternoon  \\r\\nW...</td>\n",
       "    </tr>\n",
       "    <tr>\n",
       "      <th>...</th>\n",
       "      <td>...</td>\n",
       "      <td>...</td>\n",
       "      <td>...</td>\n",
       "    </tr>\n",
       "    <tr>\n",
       "      <th>50247</th>\n",
       "      <td>Ray Boltz</td>\n",
       "      <td>Not Long Ago</td>\n",
       "      <td>Not Long Ago  \\r\\nWords by Ray Boltz, Music by...</td>\n",
       "    </tr>\n",
       "    <tr>\n",
       "      <th>7645</th>\n",
       "      <td>Heart</td>\n",
       "      <td>Never</td>\n",
       "      <td>Hey baby I'm talking to you  \\r\\nStop yourself...</td>\n",
       "    </tr>\n",
       "    <tr>\n",
       "      <th>38753</th>\n",
       "      <td>Journey</td>\n",
       "      <td>Dixie Highway</td>\n",
       "      <td>\"Well, since we're recording tonight,  \\r\\nAnd...</td>\n",
       "    </tr>\n",
       "    <tr>\n",
       "      <th>43598</th>\n",
       "      <td>Michael Bolton</td>\n",
       "      <td>Recondita Armonia</td>\n",
       "      <td>(Tosca)(What strange and lovely harmony)  \\r\\n...</td>\n",
       "    </tr>\n",
       "    <tr>\n",
       "      <th>3626</th>\n",
       "      <td>Dan Fogelberg</td>\n",
       "      <td>Serengeti Moon</td>\n",
       "      <td>The grass is high and the work is done  \\r\\nSe...</td>\n",
       "    </tr>\n",
       "  </tbody>\n",
       "</table>\n",
       "<p>15000 rows × 3 columns</p>\n",
       "</div>"
      ],
      "text/plain": [
       "               artist                     song  \\\n",
       "13122     Miley Cyrus               Lilac Wine   \n",
       "35829        Hillsong        Cry Of The Broken   \n",
       "15562  Paul McCartney              Flaming Pie   \n",
       "16781       Radiohead                 Cuttooth   \n",
       "9329    Jimmy Buffett  High Cumberland Jubilee   \n",
       "...               ...                      ...   \n",
       "50247       Ray Boltz             Not Long Ago   \n",
       "7645            Heart                    Never   \n",
       "38753         Journey            Dixie Highway   \n",
       "43598  Michael Bolton        Recondita Armonia   \n",
       "3626    Dan Fogelberg           Serengeti Moon   \n",
       "\n",
       "                                                    text  \n",
       "13122  I lost myself on a cool damp night  \\r\\nI gave...  \n",
       "35829  Lord I come  \\r\\nLord I thank you  \\r\\nFor you...  \n",
       "15562  Making love underneath the bed  \\r\\nShooting s...  \n",
       "16781  I will lead a wallpaper life  \\r\\nOr run away ...  \n",
       "9329   Maybe leaving's better in the afternoon  \\r\\nW...  \n",
       "...                                                  ...  \n",
       "50247  Not Long Ago  \\r\\nWords by Ray Boltz, Music by...  \n",
       "7645   Hey baby I'm talking to you  \\r\\nStop yourself...  \n",
       "38753  \"Well, since we're recording tonight,  \\r\\nAnd...  \n",
       "43598  (Tosca)(What strange and lovely harmony)  \\r\\n...  \n",
       "3626   The grass is high and the work is done  \\r\\nSe...  \n",
       "\n",
       "[15000 rows x 3 columns]"
      ]
     },
     "execution_count": 8,
     "metadata": {},
     "output_type": "execute_result"
    }
   ],
   "source": [
    "df"
   ]
  },
  {
   "cell_type": "code",
   "execution_count": 9,
   "id": "8cf3839c",
   "metadata": {},
   "outputs": [],
   "source": [
    "# Resetting the index\n",
    "df.reset_index(drop=True, inplace=True)"
   ]
  },
  {
   "cell_type": "code",
   "execution_count": 10,
   "id": "2313e945",
   "metadata": {},
   "outputs": [
    {
     "data": {
      "text/html": [
       "<div>\n",
       "<style scoped>\n",
       "    .dataframe tbody tr th:only-of-type {\n",
       "        vertical-align: middle;\n",
       "    }\n",
       "\n",
       "    .dataframe tbody tr th {\n",
       "        vertical-align: top;\n",
       "    }\n",
       "\n",
       "    .dataframe thead th {\n",
       "        text-align: right;\n",
       "    }\n",
       "</style>\n",
       "<table border=\"1\" class=\"dataframe\">\n",
       "  <thead>\n",
       "    <tr style=\"text-align: right;\">\n",
       "      <th></th>\n",
       "      <th>artist</th>\n",
       "      <th>song</th>\n",
       "      <th>text</th>\n",
       "    </tr>\n",
       "  </thead>\n",
       "  <tbody>\n",
       "    <tr>\n",
       "      <th>0</th>\n",
       "      <td>Miley Cyrus</td>\n",
       "      <td>Lilac Wine</td>\n",
       "      <td>I lost myself on a cool damp night  \\r\\nI gave...</td>\n",
       "    </tr>\n",
       "    <tr>\n",
       "      <th>1</th>\n",
       "      <td>Hillsong</td>\n",
       "      <td>Cry Of The Broken</td>\n",
       "      <td>Lord I come  \\r\\nLord I thank you  \\r\\nFor you...</td>\n",
       "    </tr>\n",
       "    <tr>\n",
       "      <th>2</th>\n",
       "      <td>Paul McCartney</td>\n",
       "      <td>Flaming Pie</td>\n",
       "      <td>Making love underneath the bed  \\r\\nShooting s...</td>\n",
       "    </tr>\n",
       "    <tr>\n",
       "      <th>3</th>\n",
       "      <td>Radiohead</td>\n",
       "      <td>Cuttooth</td>\n",
       "      <td>I will lead a wallpaper life  \\r\\nOr run away ...</td>\n",
       "    </tr>\n",
       "    <tr>\n",
       "      <th>4</th>\n",
       "      <td>Jimmy Buffett</td>\n",
       "      <td>High Cumberland Jubilee</td>\n",
       "      <td>Maybe leaving's better in the afternoon  \\r\\nW...</td>\n",
       "    </tr>\n",
       "    <tr>\n",
       "      <th>...</th>\n",
       "      <td>...</td>\n",
       "      <td>...</td>\n",
       "      <td>...</td>\n",
       "    </tr>\n",
       "    <tr>\n",
       "      <th>14995</th>\n",
       "      <td>Ray Boltz</td>\n",
       "      <td>Not Long Ago</td>\n",
       "      <td>Not Long Ago  \\r\\nWords by Ray Boltz, Music by...</td>\n",
       "    </tr>\n",
       "    <tr>\n",
       "      <th>14996</th>\n",
       "      <td>Heart</td>\n",
       "      <td>Never</td>\n",
       "      <td>Hey baby I'm talking to you  \\r\\nStop yourself...</td>\n",
       "    </tr>\n",
       "    <tr>\n",
       "      <th>14997</th>\n",
       "      <td>Journey</td>\n",
       "      <td>Dixie Highway</td>\n",
       "      <td>\"Well, since we're recording tonight,  \\r\\nAnd...</td>\n",
       "    </tr>\n",
       "    <tr>\n",
       "      <th>14998</th>\n",
       "      <td>Michael Bolton</td>\n",
       "      <td>Recondita Armonia</td>\n",
       "      <td>(Tosca)(What strange and lovely harmony)  \\r\\n...</td>\n",
       "    </tr>\n",
       "    <tr>\n",
       "      <th>14999</th>\n",
       "      <td>Dan Fogelberg</td>\n",
       "      <td>Serengeti Moon</td>\n",
       "      <td>The grass is high and the work is done  \\r\\nSe...</td>\n",
       "    </tr>\n",
       "  </tbody>\n",
       "</table>\n",
       "<p>15000 rows × 3 columns</p>\n",
       "</div>"
      ],
      "text/plain": [
       "               artist                     song  \\\n",
       "0         Miley Cyrus               Lilac Wine   \n",
       "1            Hillsong        Cry Of The Broken   \n",
       "2      Paul McCartney              Flaming Pie   \n",
       "3           Radiohead                 Cuttooth   \n",
       "4       Jimmy Buffett  High Cumberland Jubilee   \n",
       "...               ...                      ...   \n",
       "14995       Ray Boltz             Not Long Ago   \n",
       "14996           Heart                    Never   \n",
       "14997         Journey            Dixie Highway   \n",
       "14998  Michael Bolton        Recondita Armonia   \n",
       "14999   Dan Fogelberg           Serengeti Moon   \n",
       "\n",
       "                                                    text  \n",
       "0      I lost myself on a cool damp night  \\r\\nI gave...  \n",
       "1      Lord I come  \\r\\nLord I thank you  \\r\\nFor you...  \n",
       "2      Making love underneath the bed  \\r\\nShooting s...  \n",
       "3      I will lead a wallpaper life  \\r\\nOr run away ...  \n",
       "4      Maybe leaving's better in the afternoon  \\r\\nW...  \n",
       "...                                                  ...  \n",
       "14995  Not Long Ago  \\r\\nWords by Ray Boltz, Music by...  \n",
       "14996  Hey baby I'm talking to you  \\r\\nStop yourself...  \n",
       "14997  \"Well, since we're recording tonight,  \\r\\nAnd...  \n",
       "14998  (Tosca)(What strange and lovely harmony)  \\r\\n...  \n",
       "14999  The grass is high and the work is done  \\r\\nSe...  \n",
       "\n",
       "[15000 rows x 3 columns]"
      ]
     },
     "execution_count": 10,
     "metadata": {},
     "output_type": "execute_result"
    }
   ],
   "source": [
    "df"
   ]
  },
  {
   "cell_type": "code",
   "execution_count": 11,
   "id": "c2c1f04e",
   "metadata": {},
   "outputs": [
    {
     "data": {
      "text/html": [
       "<div>\n",
       "<style scoped>\n",
       "    .dataframe tbody tr th:only-of-type {\n",
       "        vertical-align: middle;\n",
       "    }\n",
       "\n",
       "    .dataframe tbody tr th {\n",
       "        vertical-align: top;\n",
       "    }\n",
       "\n",
       "    .dataframe thead th {\n",
       "        text-align: right;\n",
       "    }\n",
       "</style>\n",
       "<table border=\"1\" class=\"dataframe\">\n",
       "  <thead>\n",
       "    <tr style=\"text-align: right;\">\n",
       "      <th></th>\n",
       "      <th>artist</th>\n",
       "      <th>song</th>\n",
       "      <th>text</th>\n",
       "    </tr>\n",
       "  </thead>\n",
       "  <tbody>\n",
       "    <tr>\n",
       "      <th>0</th>\n",
       "      <td>Miley Cyrus</td>\n",
       "      <td>Lilac Wine</td>\n",
       "      <td>I lost myself on a cool damp night  \\r\\nI gave...</td>\n",
       "    </tr>\n",
       "    <tr>\n",
       "      <th>1</th>\n",
       "      <td>Hillsong</td>\n",
       "      <td>Cry Of The Broken</td>\n",
       "      <td>Lord I come  \\r\\nLord I thank you  \\r\\nFor you...</td>\n",
       "    </tr>\n",
       "    <tr>\n",
       "      <th>2</th>\n",
       "      <td>Paul McCartney</td>\n",
       "      <td>Flaming Pie</td>\n",
       "      <td>Making love underneath the bed  \\r\\nShooting s...</td>\n",
       "    </tr>\n",
       "    <tr>\n",
       "      <th>3</th>\n",
       "      <td>Radiohead</td>\n",
       "      <td>Cuttooth</td>\n",
       "      <td>I will lead a wallpaper life  \\r\\nOr run away ...</td>\n",
       "    </tr>\n",
       "    <tr>\n",
       "      <th>4</th>\n",
       "      <td>Jimmy Buffett</td>\n",
       "      <td>High Cumberland Jubilee</td>\n",
       "      <td>Maybe leaving's better in the afternoon  \\r\\nW...</td>\n",
       "    </tr>\n",
       "  </tbody>\n",
       "</table>\n",
       "</div>"
      ],
      "text/plain": [
       "           artist                     song  \\\n",
       "0     Miley Cyrus               Lilac Wine   \n",
       "1        Hillsong        Cry Of The Broken   \n",
       "2  Paul McCartney              Flaming Pie   \n",
       "3       Radiohead                 Cuttooth   \n",
       "4   Jimmy Buffett  High Cumberland Jubilee   \n",
       "\n",
       "                                                text  \n",
       "0  I lost myself on a cool damp night  \\r\\nI gave...  \n",
       "1  Lord I come  \\r\\nLord I thank you  \\r\\nFor you...  \n",
       "2  Making love underneath the bed  \\r\\nShooting s...  \n",
       "3  I will lead a wallpaper life  \\r\\nOr run away ...  \n",
       "4  Maybe leaving's better in the afternoon  \\r\\nW...  "
      ]
     },
     "execution_count": 11,
     "metadata": {},
     "output_type": "execute_result"
    }
   ],
   "source": [
    "df.head()"
   ]
  },
  {
   "cell_type": "code",
   "execution_count": 12,
   "id": "547ef5e3",
   "metadata": {},
   "outputs": [
    {
     "data": {
      "text/plain": [
       "0"
      ]
     },
     "execution_count": 12,
     "metadata": {},
     "output_type": "execute_result"
    }
   ],
   "source": [
    "df.duplicated().sum()"
   ]
  },
  {
   "cell_type": "code",
   "execution_count": 13,
   "id": "152d21ae",
   "metadata": {},
   "outputs": [
    {
     "data": {
      "text/plain": [
       "\"I lost myself on a cool damp night  \\r\\nI gave myself in that misty light  \\r\\nWas hypnotized by a strange delight  \\r\\nUnder a lilac tree  \\r\\n  \\r\\nI made wine from the lilac tree  \\r\\nPut my heart in it's recipe  \\r\\nIt makes me see what I want to see  \\r\\nAnd be what I want to be  \\r\\n  \\r\\nWhen I think more than I want to think  \\r\\nDo things I never should do  \\r\\nI drink much more that I ought to drink  \\r\\nBecause it brings me back you  \\r\\n  \\r\\nLilac wine is sweet and heady  \\r\\nLike my love  \\r\\nLilac wine, I feel unsteady  \\r\\nLike my love  \\r\\n  \\r\\nListen to me, I cannot see clearly  \\r\\nIsn't that she, coming to me  \\r\\nNearly here  \\r\\n  \\r\\nLilac wine is sweet and heady  \\r\\nWhere's my love  \\r\\nLilac wine, I feel unsteady  \\r\\nWhere's my love  \\r\\n  \\r\\nListen to me, why is everything so hazy  \\r\\nIsn't that she, or am I just going crazy, dear  \\r\\nLilac wine, I feel unready for my love  \\r\\nFeel unready, for my love\\r\\n\\r\\n\""
      ]
     },
     "execution_count": 13,
     "metadata": {},
     "output_type": "execute_result"
    }
   ],
   "source": [
    "df['text'][0]"
   ]
  },
  {
   "cell_type": "code",
   "execution_count": 14,
   "id": "8e1958fc",
   "metadata": {},
   "outputs": [
    {
     "data": {
      "text/plain": [
       "(15000, 3)"
      ]
     },
     "execution_count": 14,
     "metadata": {},
     "output_type": "execute_result"
    }
   ],
   "source": [
    "df.shape"
   ]
  },
  {
   "cell_type": "markdown",
   "id": "a88758c1",
   "metadata": {},
   "source": [
    "# Text Cleaning / Text Preprocessing"
   ]
  },
  {
   "cell_type": "code",
   "execution_count": 15,
   "id": "71cbf67e",
   "metadata": {},
   "outputs": [],
   "source": [
    "# removing all the regular expressions\n",
    "# str.lower(): converts all the text in the 'text' column to lowercase\n",
    "# replace(r'^\\w\\s', ' '): using a regular expression to find and replace patterns in the text.  it's looking for a single word followed by a space at the start of a string.\n",
    "# It replaces any newline character found with a single space.\n",
    "df['text'] = df['text'].str.lower().replace(r'^\\w\\s', ' ').replace(r'\\n', ' ', regex = True)"
   ]
  },
  {
   "cell_type": "code",
   "execution_count": 16,
   "id": "e4d97ef2",
   "metadata": {},
   "outputs": [
    {
     "data": {
      "text/plain": [
       "\"i lost myself on a cool damp night  \\r i gave myself in that misty light  \\r was hypnotized by a strange delight  \\r under a lilac tree  \\r   \\r i made wine from the lilac tree  \\r put my heart in it's recipe  \\r it makes me see what i want to see  \\r and be what i want to be  \\r   \\r when i think more than i want to think  \\r do things i never should do  \\r i drink much more that i ought to drink  \\r because it brings me back you  \\r   \\r lilac wine is sweet and heady  \\r like my love  \\r lilac wine, i feel unsteady  \\r like my love  \\r   \\r listen to me, i cannot see clearly  \\r isn't that she, coming to me  \\r nearly here  \\r   \\r lilac wine is sweet and heady  \\r where's my love  \\r lilac wine, i feel unsteady  \\r where's my love  \\r   \\r listen to me, why is everything so hazy  \\r isn't that she, or am i just going crazy, dear  \\r lilac wine, i feel unready for my love  \\r feel unready, for my love\\r \\r \""
      ]
     },
     "execution_count": 16,
     "metadata": {},
     "output_type": "execute_result"
    }
   ],
   "source": [
    "# pattern of \\r: a carriage return is used to indicate the end of a line and move the cursor to the beginning of the next line\n",
    "# Windows uses both a carriage return \\r and a line feed \\n (often written as \\r\\n together), while Unix-based systems like Linux and macOS typically use just a line feed \\n.\n",
    "df['text'][0]"
   ]
  },
  {
   "cell_type": "code",
   "execution_count": 17,
   "id": "a5b52bc4",
   "metadata": {},
   "outputs": [
    {
     "data": {
      "text/plain": [
       "\"i lost myself on a cool damp night   i gave myself in that misty light   was hypnotized by a strange delight   under a lilac tree      i made wine from the lilac tree   put my heart in it's recipe   it makes me see what i want to see   and be what i want to be      when i think more than i want to think   do things i never should do   i drink much more that i ought to drink   because it brings me back you      lilac wine is sweet and heady   like my love   lilac wine, i feel unsteady   like my love      listen to me, i cannot see clearly   isn't that she, coming to me   nearly here      lilac wine is sweet and heady   where's my love   lilac wine, i feel unsteady   where's my love      listen to me, why is everything so hazy   isn't that she, or am i just going crazy, dear   lilac wine, i feel unready for my love   feel unready, for my love\""
      ]
     },
     "execution_count": 17,
     "metadata": {},
     "output_type": "execute_result"
    }
   ],
   "source": [
    "# removing all the carriage return characters and the spaces from the text column.\n",
    "# strip(): removes any leading or trailing whitespace from each string element in the 'text' column \n",
    "# using the replace() method to remove carriage return characters (\\r).\n",
    "df['text'] = df['text'].str.strip().str.replace('\\r', '')\n",
    "df['text'][0]"
   ]
  },
  {
   "cell_type": "code",
   "execution_count": 18,
   "id": "2340231e",
   "metadata": {},
   "outputs": [
    {
     "data": {
      "text/html": [
       "<div>\n",
       "<style scoped>\n",
       "    .dataframe tbody tr th:only-of-type {\n",
       "        vertical-align: middle;\n",
       "    }\n",
       "\n",
       "    .dataframe tbody tr th {\n",
       "        vertical-align: top;\n",
       "    }\n",
       "\n",
       "    .dataframe thead th {\n",
       "        text-align: right;\n",
       "    }\n",
       "</style>\n",
       "<table border=\"1\" class=\"dataframe\">\n",
       "  <thead>\n",
       "    <tr style=\"text-align: right;\">\n",
       "      <th></th>\n",
       "      <th>artist</th>\n",
       "      <th>song</th>\n",
       "      <th>text</th>\n",
       "    </tr>\n",
       "  </thead>\n",
       "  <tbody>\n",
       "    <tr>\n",
       "      <th>0</th>\n",
       "      <td>Miley Cyrus</td>\n",
       "      <td>Lilac Wine</td>\n",
       "      <td>i lost myself on a cool damp night   i gave my...</td>\n",
       "    </tr>\n",
       "    <tr>\n",
       "      <th>1</th>\n",
       "      <td>Hillsong</td>\n",
       "      <td>Cry Of The Broken</td>\n",
       "      <td>lord i come   lord i thank you   for your love...</td>\n",
       "    </tr>\n",
       "    <tr>\n",
       "      <th>2</th>\n",
       "      <td>Paul McCartney</td>\n",
       "      <td>Flaming Pie</td>\n",
       "      <td>making love underneath the bed   shooting star...</td>\n",
       "    </tr>\n",
       "    <tr>\n",
       "      <th>3</th>\n",
       "      <td>Radiohead</td>\n",
       "      <td>Cuttooth</td>\n",
       "      <td>i will lead a wallpaper life   or run away to ...</td>\n",
       "    </tr>\n",
       "    <tr>\n",
       "      <th>4</th>\n",
       "      <td>Jimmy Buffett</td>\n",
       "      <td>High Cumberland Jubilee</td>\n",
       "      <td>maybe leaving's better in the afternoon   when...</td>\n",
       "    </tr>\n",
       "  </tbody>\n",
       "</table>\n",
       "</div>"
      ],
      "text/plain": [
       "           artist                     song  \\\n",
       "0     Miley Cyrus               Lilac Wine   \n",
       "1        Hillsong        Cry Of The Broken   \n",
       "2  Paul McCartney              Flaming Pie   \n",
       "3       Radiohead                 Cuttooth   \n",
       "4   Jimmy Buffett  High Cumberland Jubilee   \n",
       "\n",
       "                                                text  \n",
       "0  i lost myself on a cool damp night   i gave my...  \n",
       "1  lord i come   lord i thank you   for your love...  \n",
       "2  making love underneath the bed   shooting star...  \n",
       "3  i will lead a wallpaper life   or run away to ...  \n",
       "4  maybe leaving's better in the afternoon   when...  "
      ]
     },
     "execution_count": 18,
     "metadata": {},
     "output_type": "execute_result"
    }
   ],
   "source": [
    "df.head()"
   ]
  },
  {
   "cell_type": "code",
   "execution_count": 19,
   "id": "1cbd1646",
   "metadata": {},
   "outputs": [],
   "source": [
    "# Stemming is the process of reducing words to their root or base form. \n",
    "#  we are using this algorithm to stem words in our text data.\n",
    "# \"running\" is stemmed to its base form \"run\" using the Porter stemming algorithm.\n",
    "import nltk\n",
    "from nltk.stem.porter import PorterStemmer\n",
    "from nltk.tokenize import word_tokenize"
   ]
  },
  {
   "cell_type": "code",
   "execution_count": 20,
   "id": "3cdc2521",
   "metadata": {},
   "outputs": [],
   "source": [
    "stemmer = PorterStemmer()"
   ]
  },
  {
   "cell_type": "markdown",
   "id": "d75daa4f",
   "metadata": {},
   "source": [
    "# Content Based Filtering\n",
    "#####  Creating a function that is preparing the text data for analysis or comparison based on the content of the songs' lyrics."
   ]
  },
  {
   "cell_type": "code",
   "execution_count": 21,
   "id": "fe02fbeb",
   "metadata": {},
   "outputs": [],
   "source": [
    "# A function that tokenizes input text, performs stemming on each token, and then returns the resulting stemmed tokens as a single string.\n",
    "# split a piece of text (a sentence or a paragraph) into individual words or tokens. Before stemming the words.\n",
    "def token(txt):\n",
    "    tokens = nltk.word_tokenize(txt) # Tokenize the input text\n",
    "    stemmed = [stemmer.stem(w) for w in tokens]\n",
    "    return \" \".join(stemmed) # results in a single string"
   ]
  },
  {
   "cell_type": "code",
   "execution_count": 22,
   "id": "fe2d60e2",
   "metadata": {},
   "outputs": [
    {
     "data": {
      "text/plain": [
       "'you are beauti , beauti'"
      ]
     },
     "execution_count": 22,
     "metadata": {},
     "output_type": "execute_result"
    }
   ],
   "source": [
    "token(\"you are beautiful, beauty\")"
   ]
  },
  {
   "cell_type": "code",
   "execution_count": 23,
   "id": "dd551402",
   "metadata": {},
   "outputs": [
    {
     "data": {
      "text/plain": [
       "0        i lost myself on a cool damp night i gave myse...\n",
       "1        lord i come lord i thank you for your love for...\n",
       "2        make love underneath the bed shoot star from a...\n",
       "3        i will lead a wallpap life or run away to the ...\n",
       "4        mayb leav 's better in the afternoon when the ...\n",
       "                               ...                        \n",
       "14995    not long ago word by ray boltz , music by stev...\n",
       "14996    hey babi i 'm talk to you stop yourself and li...\n",
       "14997    `` well , sinc we 're record tonight , and we ...\n",
       "14998    ( tosca ) ( what strang and love harmoni ) rec...\n",
       "14999    the grass is high and the work is done send th...\n",
       "Name: text, Length: 15000, dtype: object"
      ]
     },
     "execution_count": 23,
     "metadata": {},
     "output_type": "execute_result"
    }
   ],
   "source": [
    "# applying our function\n",
    "df['text'].apply(lambda x: token(x))"
   ]
  },
  {
   "cell_type": "code",
   "execution_count": 24,
   "id": "4de2251f",
   "metadata": {},
   "outputs": [],
   "source": [
    "# convert into vector\n",
    "# converting text into numerical representations and then calculating how similar these numerical representations are using the cosine similarity metric.\n",
    "from sklearn.feature_extraction.text import TfidfVectorizer\n",
    "from sklearn.metrics.pairwise import cosine_similarity"
   ]
  },
  {
   "cell_type": "code",
   "execution_count": 25,
   "id": "36a61e2d",
   "metadata": {},
   "outputs": [],
   "source": [
    "tfid = TfidfVectorizer(analyzer='word', stop_words='english')"
   ]
  },
  {
   "cell_type": "code",
   "execution_count": 26,
   "id": "cbe3ab27",
   "metadata": {},
   "outputs": [
    {
     "data": {
      "text/plain": [
       "<15000x41425 sparse matrix of type '<class 'numpy.float64'>'\n",
       "\twith 806623 stored elements in Compressed Sparse Row format>"
      ]
     },
     "execution_count": 26,
     "metadata": {},
     "output_type": "execute_result"
    }
   ],
   "source": [
    "matrix = tfid.fit_transform(df['text'])\n",
    "matrix"
   ]
  },
  {
   "cell_type": "code",
   "execution_count": 27,
   "id": "bafc5a6c",
   "metadata": {},
   "outputs": [],
   "source": [
    "# cosine values\n",
    "similar = cosine_similarity(matrix)"
   ]
  },
  {
   "cell_type": "code",
   "execution_count": 28,
   "id": "26e977e9",
   "metadata": {},
   "outputs": [
    {
     "data": {
      "text/plain": [
       "array([1.        , 0.0151156 , 0.00395909, ..., 0.05871802, 0.00790803,\n",
       "       0.02256163])"
      ]
     },
     "execution_count": 28,
     "metadata": {},
     "output_type": "execute_result"
    }
   ],
   "source": [
    "similar[0]"
   ]
  },
  {
   "cell_type": "code",
   "execution_count": 29,
   "id": "c11dd4cf",
   "metadata": {},
   "outputs": [
    {
     "data": {
      "text/html": [
       "<div>\n",
       "<style scoped>\n",
       "    .dataframe tbody tr th:only-of-type {\n",
       "        vertical-align: middle;\n",
       "    }\n",
       "\n",
       "    .dataframe tbody tr th {\n",
       "        vertical-align: top;\n",
       "    }\n",
       "\n",
       "    .dataframe thead th {\n",
       "        text-align: right;\n",
       "    }\n",
       "</style>\n",
       "<table border=\"1\" class=\"dataframe\">\n",
       "  <thead>\n",
       "    <tr style=\"text-align: right;\">\n",
       "      <th></th>\n",
       "      <th>artist</th>\n",
       "      <th>song</th>\n",
       "      <th>text</th>\n",
       "    </tr>\n",
       "  </thead>\n",
       "  <tbody>\n",
       "    <tr>\n",
       "      <th>1</th>\n",
       "      <td>Hillsong</td>\n",
       "      <td>Cry Of The Broken</td>\n",
       "      <td>lord i come   lord i thank you   for your love...</td>\n",
       "    </tr>\n",
       "    <tr>\n",
       "      <th>2690</th>\n",
       "      <td>Hillsong United</td>\n",
       "      <td>Cry Of The Broken</td>\n",
       "      <td>lord i come   lord i thank you   for your love...</td>\n",
       "    </tr>\n",
       "  </tbody>\n",
       "</table>\n",
       "</div>"
      ],
      "text/plain": [
       "               artist               song  \\\n",
       "1            Hillsong  Cry Of The Broken   \n",
       "2690  Hillsong United  Cry Of The Broken   \n",
       "\n",
       "                                                   text  \n",
       "1     lord i come   lord i thank you   for your love...  \n",
       "2690  lord i come   lord i thank you   for your love...  "
      ]
     },
     "execution_count": 29,
     "metadata": {},
     "output_type": "execute_result"
    }
   ],
   "source": [
    "df[df['song'] == \"Cry Of The Broken\"]"
   ]
  },
  {
   "cell_type": "code",
   "execution_count": 30,
   "id": "579d1973",
   "metadata": {},
   "outputs": [
    {
     "data": {
      "text/plain": [
       "1"
      ]
     },
     "execution_count": 30,
     "metadata": {},
     "output_type": "execute_result"
    }
   ],
   "source": [
    "df[df['song'] == 'Cry Of The Broken'].index[0]"
   ]
  },
  {
   "cell_type": "markdown",
   "id": "f9b52ad3",
   "metadata": {},
   "source": [
    "# Recommender Function"
   ]
  },
  {
   "cell_type": "code",
   "execution_count": 31,
   "id": "57a62fe1",
   "metadata": {},
   "outputs": [],
   "source": [
    "# The similarity values are sorted in descending order, so the most similar songs come first.\n",
    "def recommender(song_name):\n",
    "    idx = df[df['song'] == song_name].index[0] # This line finds the index of the input song in the DataFrame df.\n",
    "    distance = sorted(list(enumerate(similar[idx])), reverse=True, key = lambda x: x[1]) # passing the similarity array into the list\n",
    "    song = [] # \n",
    "    for s in distance[1:5]:\n",
    "        song.append(df.iloc[s[0]].song)\n",
    "    return song"
   ]
  },
  {
   "cell_type": "code",
   "execution_count": 32,
   "id": "f7e0e877",
   "metadata": {},
   "outputs": [
    {
     "data": {
      "text/plain": [
       "['Cry Of The Broken', 'Broken Down', 'Of A Broken Heart', 'Planet Telex']"
      ]
     },
     "execution_count": 32,
     "metadata": {},
     "output_type": "execute_result"
    }
   ],
   "source": [
    "recommender(\"Cry Of The Broken\")"
   ]
  },
  {
   "cell_type": "code",
   "execution_count": 33,
   "id": "190e73ac",
   "metadata": {},
   "outputs": [],
   "source": [
    "import pickle as pk\n",
    "pk.dump(similar, open(\"music\", \"wb\"))"
   ]
  },
  {
   "cell_type": "code",
   "execution_count": 34,
   "id": "da283bfd",
   "metadata": {},
   "outputs": [],
   "source": [
    "pk.dump(df, open(\"data\", \"wb\"))"
   ]
  },
  {
   "cell_type": "code",
   "execution_count": null,
   "id": "6601e3b1",
   "metadata": {},
   "outputs": [],
   "source": []
  },
  {
   "cell_type": "code",
   "execution_count": null,
   "id": "363e0b8a",
   "metadata": {},
   "outputs": [],
   "source": []
  },
  {
   "cell_type": "code",
   "execution_count": null,
   "id": "b1724b39",
   "metadata": {},
   "outputs": [],
   "source": []
  }
 ],
 "metadata": {
  "kernelspec": {
   "display_name": "Python 3 (ipykernel)",
   "language": "python",
   "name": "python3"
  },
  "language_info": {
   "codemirror_mode": {
    "name": "ipython",
    "version": 3
   },
   "file_extension": ".py",
   "mimetype": "text/x-python",
   "name": "python",
   "nbconvert_exporter": "python",
   "pygments_lexer": "ipython3",
   "version": "3.11.5"
  }
 },
 "nbformat": 4,
 "nbformat_minor": 5
}
